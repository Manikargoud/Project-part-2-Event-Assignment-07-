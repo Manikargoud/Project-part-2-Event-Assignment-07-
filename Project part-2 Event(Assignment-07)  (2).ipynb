{
 "cells": [
  {
   "cell_type": "markdown",
   "id": "edcdec6c-7a54-447e-a0c7-c89d448bc3c5",
   "metadata": {},
   "source": [
    "## Event(Assignment-7)\n",
    "\n",
    "### Manikar Goud Rasamalla\n",
    "\n",
    "### 0. Preperation\n",
    "\n"
   ]
  },
  {
   "cell_type": "code",
   "execution_count": 184,
   "id": "238662fa",
   "metadata": {},
   "outputs": [
    {
     "name": "stdout",
     "output_type": "stream",
     "text": [
      "Requirement already satisfied: wrds in c:\\users\\manik\\anaconda3\\lib\\site-packages (3.2.0)Note: you may need to restart the kernel to use updated packages.\n",
      "\n",
      "Requirement already satisfied: numpy<1.27,>=1.26 in c:\\users\\manik\\anaconda3\\lib\\site-packages (from wrds) (1.26.4)\n",
      "Requirement already satisfied: packaging<23.3 in c:\\users\\manik\\anaconda3\\lib\\site-packages (from wrds) (23.2)\n",
      "Requirement already satisfied: pandas<2.3,>=2.2 in c:\\users\\manik\\anaconda3\\lib\\site-packages (from wrds) (2.2.2)\n",
      "Requirement already satisfied: psycopg2-binary<2.10,>=2.9 in c:\\users\\manik\\anaconda3\\lib\\site-packages (from wrds) (2.9.10)\n",
      "Requirement already satisfied: scipy<1.13,>=1.12 in c:\\users\\manik\\anaconda3\\lib\\site-packages (from wrds) (1.12.0)\n",
      "Requirement already satisfied: sqlalchemy<2.1,>=2 in c:\\users\\manik\\anaconda3\\lib\\site-packages (from wrds) (2.0.30)\n",
      "Requirement already satisfied: python-dateutil>=2.8.2 in c:\\users\\manik\\anaconda3\\lib\\site-packages (from pandas<2.3,>=2.2->wrds) (2.9.0.post0)\n",
      "Requirement already satisfied: pytz>=2020.1 in c:\\users\\manik\\anaconda3\\lib\\site-packages (from pandas<2.3,>=2.2->wrds) (2024.1)\n",
      "Requirement already satisfied: tzdata>=2022.7 in c:\\users\\manik\\anaconda3\\lib\\site-packages (from pandas<2.3,>=2.2->wrds) (2023.3)\n",
      "Requirement already satisfied: typing-extensions>=4.6.0 in c:\\users\\manik\\anaconda3\\lib\\site-packages (from sqlalchemy<2.1,>=2->wrds) (4.11.0)\n",
      "Requirement already satisfied: greenlet!=0.4.17 in c:\\users\\manik\\anaconda3\\lib\\site-packages (from sqlalchemy<2.1,>=2->wrds) (3.0.1)\n",
      "Requirement already satisfied: six>=1.5 in c:\\users\\manik\\anaconda3\\lib\\site-packages (from python-dateutil>=2.8.2->pandas<2.3,>=2.2->wrds) (1.16.0)\n"
     ]
    }
   ],
   "source": [
    "%pip install wrds\n"
   ]
  },
  {
   "cell_type": "markdown",
   "id": "e3ced821",
   "metadata": {},
   "source": [
    "0-2. Verify your identify\n",
    "\n",
    "Please run the codes for \"cd\" and \"datetime\""
   ]
  },
  {
   "cell_type": "code",
   "execution_count": 187,
   "id": "81b280cf",
   "metadata": {},
   "outputs": [
    {
     "name": "stdout",
     "output_type": "stream",
     "text": [
      "C:\\Users\\manik\n"
     ]
    }
   ],
   "source": [
    "cd"
   ]
  },
  {
   "cell_type": "code",
   "execution_count": 95,
   "id": "07325442",
   "metadata": {},
   "outputs": [
    {
     "name": "stdout",
     "output_type": "stream",
     "text": [
      "2024-11-18 08:59:03.061198\n"
     ]
    }
   ],
   "source": [
    "#Part 01: Step 01:\n",
    "#Import Datetime and cd\n",
    "import datetime\n",
    "print(datetime.datetime.now())"
   ]
  },
  {
   "cell_type": "markdown",
   "id": "7c226bd4",
   "metadata": {},
   "source": [
    "### 1. Download data from WRDS (Please use your ID and password)\n",
    "\n",
    "   "
   ]
  },
  {
   "cell_type": "code",
   "execution_count": 189,
   "id": "b8c08c70",
   "metadata": {},
   "outputs": [],
   "source": [
    "#importing libraries\n",
    "import pandas as pd\n",
    "import wrds"
   ]
  },
  {
   "cell_type": "code",
   "execution_count": null,
   "id": "09b18750",
   "metadata": {},
   "outputs": [],
   "source": [
    "#Part 01: step 03\n",
    "#connecting WRDS using ID and password\n",
    "conn = wrds.Connection()"
   ]
  },
  {
   "cell_type": "markdown",
   "id": "f858937f",
   "metadata": {},
   "source": [
    "1-1. Download the company basic info data"
   ]
  },
  {
   "cell_type": "code",
   "execution_count": 104,
   "id": "e786b6c8",
   "metadata": {},
   "outputs": [],
   "source": [
    "#Part 01:Step 04\n",
    "#This will help us get the company data\n",
    "info_crsp=conn.get_table(library='crsp', table='stocknames', columns =['siccd', 'permno', 'ticker','comnam', 'cusip','namedt'])"
   ]
  },
  {
   "cell_type": "code",
   "execution_count": 105,
   "id": "2264fec0",
   "metadata": {},
   "outputs": [
    {
     "data": {
      "text/html": [
       "<div>\n",
       "<style scoped>\n",
       "    .dataframe tbody tr th:only-of-type {\n",
       "        vertical-align: middle;\n",
       "    }\n",
       "\n",
       "    .dataframe tbody tr th {\n",
       "        vertical-align: top;\n",
       "    }\n",
       "\n",
       "    .dataframe thead th {\n",
       "        text-align: right;\n",
       "    }\n",
       "</style>\n",
       "<table border=\"1\" class=\"dataframe\">\n",
       "  <thead>\n",
       "    <tr style=\"text-align: right;\">\n",
       "      <th></th>\n",
       "      <th>siccd</th>\n",
       "      <th>permno</th>\n",
       "      <th>ticker</th>\n",
       "      <th>comnam</th>\n",
       "      <th>cusip</th>\n",
       "      <th>namedt</th>\n",
       "    </tr>\n",
       "  </thead>\n",
       "  <tbody>\n",
       "    <tr>\n",
       "      <th>0</th>\n",
       "      <td>3990</td>\n",
       "      <td>10000</td>\n",
       "      <td>OMFGA</td>\n",
       "      <td>OPTIMUM MANUFACTURING INC</td>\n",
       "      <td>68391610</td>\n",
       "      <td>1986-01-07</td>\n",
       "    </tr>\n",
       "    <tr>\n",
       "      <th>1</th>\n",
       "      <td>4920</td>\n",
       "      <td>10001</td>\n",
       "      <td>GFGC</td>\n",
       "      <td>GREAT FALLS GAS CO</td>\n",
       "      <td>36720410</td>\n",
       "      <td>1986-01-09</td>\n",
       "    </tr>\n",
       "    <tr>\n",
       "      <th>2</th>\n",
       "      <td>4920</td>\n",
       "      <td>10001</td>\n",
       "      <td>EWST</td>\n",
       "      <td>ENERGY WEST INC</td>\n",
       "      <td>36720410</td>\n",
       "      <td>1993-11-22</td>\n",
       "    </tr>\n",
       "    <tr>\n",
       "      <th>3</th>\n",
       "      <td>4920</td>\n",
       "      <td>10001</td>\n",
       "      <td>EWST</td>\n",
       "      <td>ENERGY WEST INC</td>\n",
       "      <td>36720410</td>\n",
       "      <td>2008-02-05</td>\n",
       "    </tr>\n",
       "    <tr>\n",
       "      <th>4</th>\n",
       "      <td>4920</td>\n",
       "      <td>10001</td>\n",
       "      <td>EGAS</td>\n",
       "      <td>ENERGY INC</td>\n",
       "      <td>36720410</td>\n",
       "      <td>2009-08-04</td>\n",
       "    </tr>\n",
       "  </tbody>\n",
       "</table>\n",
       "</div>"
      ],
      "text/plain": [
       "   siccd  permno ticker                     comnam     cusip      namedt\n",
       "0   3990   10000  OMFGA  OPTIMUM MANUFACTURING INC  68391610  1986-01-07\n",
       "1   4920   10001   GFGC         GREAT FALLS GAS CO  36720410  1986-01-09\n",
       "2   4920   10001   EWST            ENERGY WEST INC  36720410  1993-11-22\n",
       "3   4920   10001   EWST            ENERGY WEST INC  36720410  2008-02-05\n",
       "4   4920   10001   EGAS                 ENERGY INC  36720410  2009-08-04"
      ]
     },
     "execution_count": 105,
     "metadata": {},
     "output_type": "execute_result"
    }
   ],
   "source": [
    "info_crsp.head()"
   ]
  },
  {
   "cell_type": "code",
   "execution_count": 106,
   "id": "fc87108a-15f7-4068-b549-93c90a2f0cc1",
   "metadata": {},
   "outputs": [],
   "source": [
    "#Part 01: Step 05\n",
    "#Converting namedt to pandas format\n",
    "info_crsp['namedt']=pd.to_datetime(info_crsp['namedt'])"
   ]
  },
  {
   "cell_type": "code",
   "execution_count": 107,
   "id": "b035d16d-8bd6-4a0f-b21b-993051de86e3",
   "metadata": {},
   "outputs": [
    {
     "name": "stdout",
     "output_type": "stream",
     "text": [
      "<class 'pandas.core.frame.DataFrame'>\n",
      "RangeIndex: 80790 entries, 0 to 80789\n",
      "Data columns (total 6 columns):\n",
      " #   Column  Non-Null Count  Dtype         \n",
      "---  ------  --------------  -----         \n",
      " 0   siccd   80790 non-null  int64         \n",
      " 1   permno  80790 non-null  int64         \n",
      " 2   ticker  75849 non-null  object        \n",
      " 3   comnam  80790 non-null  object        \n",
      " 4   cusip   80790 non-null  object        \n",
      " 5   namedt  80790 non-null  datetime64[ns]\n",
      "dtypes: datetime64[ns](1), int64(2), object(3)\n",
      "memory usage: 3.7+ MB\n"
     ]
    }
   ],
   "source": [
    "# Part 01: Step 06\n",
    "# Information of data ( Print screen PDF)\n",
    "info_crsp.info()"
   ]
  },
  {
   "cell_type": "code",
   "execution_count": 108,
   "id": "5e60d221",
   "metadata": {
    "scrolled": true
   },
   "outputs": [
    {
     "data": {
      "text/plain": [
       "True     43014\n",
       "False    37776\n",
       "Name: count, dtype: int64"
      ]
     },
     "execution_count": 108,
     "metadata": {},
     "output_type": "execute_result"
    }
   ],
   "source": [
    "# Part 01: Step 07\n",
    "# Checking duplicates based on 'permno’ \n",
    "info_crsp.duplicated('permno').value_counts()"
   ]
  },
  {
   "cell_type": "code",
   "execution_count": 109,
   "id": "1781a283-6beb-4dc9-bcc4-018d70262f85",
   "metadata": {},
   "outputs": [],
   "source": [
    "# Part 01: Step 08\n",
    "#Sorting Values on permno \n",
    "info_crsp=info_crsp.sort_values(['permno','namedt'])"
   ]
  },
  {
   "cell_type": "code",
   "execution_count": 110,
   "id": "df2e833a-79ed-4236-8db6-b4a16a1c411a",
   "metadata": {},
   "outputs": [],
   "source": [
    "# Part 01: Step 09 and 10\n",
    "# Checking the duplicates and keeping the last occuring duplicates based on permno\n",
    "info_crsp=info_crsp.drop_duplicates('permno',keep='last')"
   ]
  },
  {
   "cell_type": "code",
   "execution_count": 111,
   "id": "af5822c8-42ac-4576-b2b5-925be11580cd",
   "metadata": {},
   "outputs": [
    {
     "data": {
      "text/plain": [
       "False    37776\n",
       "Name: count, dtype: int64"
      ]
     },
     "execution_count": 111,
     "metadata": {},
     "output_type": "execute_result"
    }
   ],
   "source": [
    "info_crsp.duplicated('permno').value_counts()"
   ]
  },
  {
   "cell_type": "code",
   "execution_count": 117,
   "id": "b3fb1652-65b9-4f49-be7b-56d2b54b7e6b",
   "metadata": {},
   "outputs": [
    {
     "name": "stdout",
     "output_type": "stream",
     "text": [
      "<class 'pandas.core.frame.DataFrame'>\n",
      "Index: 37776 entries, 0 to 80789\n",
      "Data columns (total 6 columns):\n",
      " #   Column  Non-Null Count  Dtype         \n",
      "---  ------  --------------  -----         \n",
      " 0   siccd   37776 non-null  int64         \n",
      " 1   permno  37776 non-null  int64         \n",
      " 2   ticker  36763 non-null  object        \n",
      " 3   comnam  37776 non-null  object        \n",
      " 4   cusip   37776 non-null  object        \n",
      " 5   namedt  37776 non-null  datetime64[ns]\n",
      "dtypes: datetime64[ns](1), int64(2), object(3)\n",
      "memory usage: 2.0+ MB\n"
     ]
    }
   ],
   "source": [
    "#Part 01: Step 11\n",
    "# The information remains the same as they are no duplicates ( Print Screen PDF)\n",
    "info_crsp.info()"
   ]
  },
  {
   "cell_type": "code",
   "execution_count": 121,
   "id": "7a207e77-a416-45ad-b3c3-6640928e3583",
   "metadata": {},
   "outputs": [
    {
     "data": {
      "text/plain": [
       "37776"
      ]
     },
     "execution_count": 121,
     "metadata": {},
     "output_type": "execute_result"
    }
   ],
   "source": [
    "#Part 01: Step 12\n",
    "#Show the unique number of companies (hint: unique(); What is the company indicator?)\n",
    "info_crsp['permno'].nunique()"
   ]
  },
  {
   "cell_type": "code",
   "execution_count": 124,
   "id": "462524c0-e395-46b3-b349-b2f4e19e2dd9",
   "metadata": {},
   "outputs": [
    {
     "data": {
      "text/html": [
       "<div>\n",
       "<style scoped>\n",
       "    .dataframe tbody tr th:only-of-type {\n",
       "        vertical-align: middle;\n",
       "    }\n",
       "\n",
       "    .dataframe tbody tr th {\n",
       "        vertical-align: top;\n",
       "    }\n",
       "\n",
       "    .dataframe thead th {\n",
       "        text-align: right;\n",
       "    }\n",
       "</style>\n",
       "<table border=\"1\" class=\"dataframe\">\n",
       "  <thead>\n",
       "    <tr style=\"text-align: right;\">\n",
       "      <th></th>\n",
       "      <th>siccd</th>\n",
       "      <th>permno</th>\n",
       "      <th>ticker</th>\n",
       "      <th>comnam</th>\n",
       "      <th>cusip</th>\n",
       "      <th>namedt</th>\n",
       "    </tr>\n",
       "  </thead>\n",
       "  <tbody>\n",
       "    <tr>\n",
       "      <th>0</th>\n",
       "      <td>3990</td>\n",
       "      <td>10000</td>\n",
       "      <td>OMFGA</td>\n",
       "      <td>OPTIMUM MANUFACTURING INC</td>\n",
       "      <td>68391610</td>\n",
       "      <td>1986-01-07</td>\n",
       "    </tr>\n",
       "    <tr>\n",
       "      <th>6</th>\n",
       "      <td>4925</td>\n",
       "      <td>10001</td>\n",
       "      <td>EGAS</td>\n",
       "      <td>GAS NATURAL INC</td>\n",
       "      <td>36720410</td>\n",
       "      <td>2010-07-09</td>\n",
       "    </tr>\n",
       "    <tr>\n",
       "      <th>10</th>\n",
       "      <td>6020</td>\n",
       "      <td>10002</td>\n",
       "      <td>BTFG</td>\n",
       "      <td>BANCTRUST FINANCIAL GROUP INC</td>\n",
       "      <td>05978R10</td>\n",
       "      <td>2002-05-15</td>\n",
       "    </tr>\n",
       "    <tr>\n",
       "      <th>12</th>\n",
       "      <td>6020</td>\n",
       "      <td>10003</td>\n",
       "      <td>GCBK</td>\n",
       "      <td>GREAT COUNTRY BK ASONIA CT</td>\n",
       "      <td>39031810</td>\n",
       "      <td>1987-04-01</td>\n",
       "    </tr>\n",
       "    <tr>\n",
       "      <th>13</th>\n",
       "      <td>5330</td>\n",
       "      <td>10004</td>\n",
       "      <td>CLSO</td>\n",
       "      <td>CLOSE OUTS PLUS INC</td>\n",
       "      <td>18906310</td>\n",
       "      <td>1986-01-15</td>\n",
       "    </tr>\n",
       "  </tbody>\n",
       "</table>\n",
       "</div>"
      ],
      "text/plain": [
       "    siccd  permno ticker                         comnam     cusip     namedt\n",
       "0    3990   10000  OMFGA      OPTIMUM MANUFACTURING INC  68391610 1986-01-07\n",
       "6    4925   10001   EGAS                GAS NATURAL INC  36720410 2010-07-09\n",
       "10   6020   10002   BTFG  BANCTRUST FINANCIAL GROUP INC  05978R10 2002-05-15\n",
       "12   6020   10003   GCBK     GREAT COUNTRY BK ASONIA CT  39031810 1987-04-01\n",
       "13   5330   10004   CLSO            CLOSE OUTS PLUS INC  18906310 1986-01-15"
      ]
     },
     "execution_count": 124,
     "metadata": {},
     "output_type": "execute_result"
    }
   ],
   "source": [
    "info_crsp.head()"
   ]
  },
  {
   "cell_type": "markdown",
   "id": "1970ff9d",
   "metadata": {},
   "source": [
    "### 2. Export the company basic info data to collect the abnormal return data via WRDS.\n",
    "\n"
   ]
  },
  {
   "cell_type": "code",
   "execution_count": 127,
   "id": "5ef1caf5",
   "metadata": {},
   "outputs": [
    {
     "name": "stderr",
     "output_type": "stream",
     "text": [
      "C:\\Users\\manik\\AppData\\Local\\Temp\\ipykernel_22636\\1452735904.py:6: SettingWithCopyWarning: \n",
      "A value is trying to be set on a copy of a slice from a DataFrame.\n",
      "Try using .loc[row_indexer,col_indexer] = value instead\n",
      "\n",
      "See the caveats in the documentation: https://pandas.pydata.org/pandas-docs/stable/user_guide/indexing.html#returning-a-view-versus-a-copy\n",
      "  crsp_out['eventdate']='2022-05-12'\n"
     ]
    }
   ],
   "source": [
    "# Part 02: Step 1 and 2\n",
    "# Subset \"permno\"\n",
    "crsp_out=info_crsp[['permno']]\n",
    "\n",
    "# Add event date \n",
    "crsp_out['eventdate']='2022-05-12'\n",
    "# even if there are messages, no worries."
   ]
  },
  {
   "cell_type": "code",
   "execution_count": 129,
   "id": "094742a2",
   "metadata": {},
   "outputs": [
    {
     "data": {
      "text/plain": [
       "(37776, 2)"
      ]
     },
     "execution_count": 129,
     "metadata": {},
     "output_type": "execute_result"
    }
   ],
   "source": [
    "crsp_out.head()\n",
    "crsp_out.shape"
   ]
  },
  {
   "cell_type": "code",
   "execution_count": 131,
   "id": "460c1b21-9371-4b8a-b3b0-464a84193443",
   "metadata": {},
   "outputs": [
    {
     "data": {
      "text/html": [
       "<div>\n",
       "<style scoped>\n",
       "    .dataframe tbody tr th:only-of-type {\n",
       "        vertical-align: middle;\n",
       "    }\n",
       "\n",
       "    .dataframe tbody tr th {\n",
       "        vertical-align: top;\n",
       "    }\n",
       "\n",
       "    .dataframe thead th {\n",
       "        text-align: right;\n",
       "    }\n",
       "</style>\n",
       "<table border=\"1\" class=\"dataframe\">\n",
       "  <thead>\n",
       "    <tr style=\"text-align: right;\">\n",
       "      <th></th>\n",
       "      <th>permno</th>\n",
       "      <th>eventdate</th>\n",
       "    </tr>\n",
       "  </thead>\n",
       "  <tbody>\n",
       "    <tr>\n",
       "      <th>0</th>\n",
       "      <td>10000</td>\n",
       "      <td>2022-05-12</td>\n",
       "    </tr>\n",
       "    <tr>\n",
       "      <th>6</th>\n",
       "      <td>10001</td>\n",
       "      <td>2022-05-12</td>\n",
       "    </tr>\n",
       "    <tr>\n",
       "      <th>10</th>\n",
       "      <td>10002</td>\n",
       "      <td>2022-05-12</td>\n",
       "    </tr>\n",
       "    <tr>\n",
       "      <th>12</th>\n",
       "      <td>10003</td>\n",
       "      <td>2022-05-12</td>\n",
       "    </tr>\n",
       "    <tr>\n",
       "      <th>13</th>\n",
       "      <td>10004</td>\n",
       "      <td>2022-05-12</td>\n",
       "    </tr>\n",
       "  </tbody>\n",
       "</table>\n",
       "</div>"
      ],
      "text/plain": [
       "    permno   eventdate\n",
       "0    10000  2022-05-12\n",
       "6    10001  2022-05-12\n",
       "10   10002  2022-05-12\n",
       "12   10003  2022-05-12\n",
       "13   10004  2022-05-12"
      ]
     },
     "execution_count": 131,
     "metadata": {},
     "output_type": "execute_result"
    }
   ],
   "source": [
    "crsp_out.head()"
   ]
  },
  {
   "cell_type": "markdown",
   "id": "bddc5f20",
   "metadata": {},
   "source": [
    "2-2 Let's export  \"crsp_out\" to your local computer. \n",
    "\n",
    "\n"
   ]
  },
  {
   "cell_type": "code",
   "execution_count": 134,
   "id": "470c04a4",
   "metadata": {},
   "outputs": [],
   "source": [
    "# Part 02: Step 04 (i)\n",
    "#export the data to your local computer.\n",
    "loc=r\"C:\\Users\\manik\\Desktop\\analytics\""
   ]
  },
  {
   "cell_type": "code",
   "execution_count": 136,
   "id": "0f815bcc",
   "metadata": {},
   "outputs": [],
   "source": [
    "#Part 02: Step 04 (ii)\n",
    "fname=loc+\"\\\\terra_luna_crash_data_permno_test.txt\""
   ]
  },
  {
   "cell_type": "code",
   "execution_count": 138,
   "id": "f6de5685",
   "metadata": {},
   "outputs": [],
   "source": [
    "#Part 02: Step 04 (iii)\n",
    "# Saving the file to computer\n",
    "crsp_out.to_csv(fname, header=False, index=False, sep=' ')"
   ]
  },
  {
   "cell_type": "markdown",
   "id": "6a2bb17e",
   "metadata": {},
   "source": [
    "2-3 Check the folder and the file you downloaded. The file size should be about 1421K."
   ]
  },
  {
   "cell_type": "markdown",
   "id": "84b52ee6",
   "metadata": {},
   "source": [
    "### 3. Download the abnormal return data via WRDS\n",
    "\n",
    "### 4. Read the file from Github\n"
   ]
  },
  {
   "cell_type": "code",
   "execution_count": 142,
   "id": "7fc85f45",
   "metadata": {},
   "outputs": [],
   "source": [
    "#Part 03: Step 01\n",
    "#read your file from your GitHub\n",
    "url='https://github.com/Manikargoud/analytics-project/blob/main/sik2xvnonrm4gisz_edate.csv?raw=true'"
   ]
  },
  {
   "cell_type": "code",
   "execution_count": 144,
   "id": "e4524660",
   "metadata": {},
   "outputs": [
    {
     "data": {
      "text/html": [
       "<div>\n",
       "<style scoped>\n",
       "    .dataframe tbody tr th:only-of-type {\n",
       "        vertical-align: middle;\n",
       "    }\n",
       "\n",
       "    .dataframe tbody tr th {\n",
       "        vertical-align: top;\n",
       "    }\n",
       "\n",
       "    .dataframe thead th {\n",
       "        text-align: right;\n",
       "    }\n",
       "</style>\n",
       "<table border=\"1\" class=\"dataframe\">\n",
       "  <thead>\n",
       "    <tr style=\"text-align: right;\">\n",
       "      <th></th>\n",
       "      <th>Model</th>\n",
       "      <th>permno</th>\n",
       "      <th>evtdate</th>\n",
       "      <th>cret</th>\n",
       "      <th>car</th>\n",
       "      <th>bhar</th>\n",
       "      <th>nrets</th>\n",
       "      <th>nrets_est</th>\n",
       "    </tr>\n",
       "  </thead>\n",
       "  <tbody>\n",
       "    <tr>\n",
       "      <th>0</th>\n",
       "      <td>Market-Adjusted Model</td>\n",
       "      <td>10026</td>\n",
       "      <td>2022-05-12</td>\n",
       "      <td>-0.172327</td>\n",
       "      <td>-0.149962</td>\n",
       "      <td>-0.139464</td>\n",
       "      <td>21</td>\n",
       "      <td>100</td>\n",
       "    </tr>\n",
       "    <tr>\n",
       "      <th>1</th>\n",
       "      <td>Market-Adjusted Model</td>\n",
       "      <td>10028</td>\n",
       "      <td>2022-05-12</td>\n",
       "      <td>-0.044402</td>\n",
       "      <td>-0.007693</td>\n",
       "      <td>-0.011538</td>\n",
       "      <td>21</td>\n",
       "      <td>100</td>\n",
       "    </tr>\n",
       "    <tr>\n",
       "      <th>2</th>\n",
       "      <td>Market-Adjusted Model</td>\n",
       "      <td>10032</td>\n",
       "      <td>2022-05-12</td>\n",
       "      <td>0.064433</td>\n",
       "      <td>0.095385</td>\n",
       "      <td>0.097296</td>\n",
       "      <td>21</td>\n",
       "      <td>100</td>\n",
       "    </tr>\n",
       "    <tr>\n",
       "      <th>3</th>\n",
       "      <td>Market-Adjusted Model</td>\n",
       "      <td>10044</td>\n",
       "      <td>2022-05-12</td>\n",
       "      <td>-0.011940</td>\n",
       "      <td>0.027170</td>\n",
       "      <td>0.020923</td>\n",
       "      <td>21</td>\n",
       "      <td>100</td>\n",
       "    </tr>\n",
       "    <tr>\n",
       "      <th>4</th>\n",
       "      <td>Market-Adjusted Model</td>\n",
       "      <td>10051</td>\n",
       "      <td>2022-05-12</td>\n",
       "      <td>-0.023114</td>\n",
       "      <td>0.017413</td>\n",
       "      <td>0.009749</td>\n",
       "      <td>21</td>\n",
       "      <td>100</td>\n",
       "    </tr>\n",
       "  </tbody>\n",
       "</table>\n",
       "</div>"
      ],
      "text/plain": [
       "                   Model  permno     evtdate      cret       car      bhar  \\\n",
       "0  Market-Adjusted Model   10026  2022-05-12 -0.172327 -0.149962 -0.139464   \n",
       "1  Market-Adjusted Model   10028  2022-05-12 -0.044402 -0.007693 -0.011538   \n",
       "2  Market-Adjusted Model   10032  2022-05-12  0.064433  0.095385  0.097296   \n",
       "3  Market-Adjusted Model   10044  2022-05-12 -0.011940  0.027170  0.020923   \n",
       "4  Market-Adjusted Model   10051  2022-05-12 -0.023114  0.017413  0.009749   \n",
       "\n",
       "   nrets  nrets_est  \n",
       "0     21        100  \n",
       "1     21        100  \n",
       "2     21        100  \n",
       "3     21        100  \n",
       "4     21        100  "
      ]
     },
     "execution_count": 144,
     "metadata": {},
     "output_type": "execute_result"
    }
   ],
   "source": [
    "#Part 03: Step 02\n",
    "#show the first row of the data\n",
    "abcar=pd.read_csv(url)\n",
    "abcar.head()"
   ]
  },
  {
   "cell_type": "code",
   "execution_count": 145,
   "id": "28667fa2-1718-48ac-87cd-23b38f0f79e8",
   "metadata": {},
   "outputs": [],
   "source": [
    "# Part 03 : Step 05\n",
    "# What type of this data is (cross-sectional, time series, or panel)? And why? (In the document)\n"
   ]
  },
  {
   "cell_type": "markdown",
   "id": "47375cef",
   "metadata": {},
   "source": [
    "5. Let's merge the abnormal return data with the basic company info data"
   ]
  },
  {
   "cell_type": "code",
   "execution_count": 147,
   "id": "f76c1ef9",
   "metadata": {},
   "outputs": [
    {
     "data": {
      "text/html": [
       "<div>\n",
       "<style scoped>\n",
       "    .dataframe tbody tr th:only-of-type {\n",
       "        vertical-align: middle;\n",
       "    }\n",
       "\n",
       "    .dataframe tbody tr th {\n",
       "        vertical-align: top;\n",
       "    }\n",
       "\n",
       "    .dataframe thead th {\n",
       "        text-align: right;\n",
       "    }\n",
       "</style>\n",
       "<table border=\"1\" class=\"dataframe\">\n",
       "  <thead>\n",
       "    <tr style=\"text-align: right;\">\n",
       "      <th></th>\n",
       "      <th>Model</th>\n",
       "      <th>permno</th>\n",
       "      <th>evtdate</th>\n",
       "      <th>cret</th>\n",
       "      <th>car</th>\n",
       "      <th>bhar</th>\n",
       "      <th>nrets</th>\n",
       "      <th>nrets_est</th>\n",
       "      <th>siccd</th>\n",
       "      <th>ticker</th>\n",
       "      <th>comnam</th>\n",
       "      <th>cusip</th>\n",
       "      <th>namedt</th>\n",
       "    </tr>\n",
       "  </thead>\n",
       "  <tbody>\n",
       "    <tr>\n",
       "      <th>0</th>\n",
       "      <td>Market-Adjusted Model</td>\n",
       "      <td>10026</td>\n",
       "      <td>2022-05-12</td>\n",
       "      <td>-0.172327</td>\n",
       "      <td>-0.149962</td>\n",
       "      <td>-0.139464</td>\n",
       "      <td>21</td>\n",
       "      <td>100</td>\n",
       "      <td>2052</td>\n",
       "      <td>JJSF</td>\n",
       "      <td>J &amp; J SNACK FOODS CORP</td>\n",
       "      <td>46603210</td>\n",
       "      <td>2000-08-01</td>\n",
       "    </tr>\n",
       "    <tr>\n",
       "      <th>1</th>\n",
       "      <td>Market-Adjusted Model</td>\n",
       "      <td>10028</td>\n",
       "      <td>2022-05-12</td>\n",
       "      <td>-0.044402</td>\n",
       "      <td>-0.007693</td>\n",
       "      <td>-0.011538</td>\n",
       "      <td>21</td>\n",
       "      <td>100</td>\n",
       "      <td>5094</td>\n",
       "      <td>ELA</td>\n",
       "      <td>ENVELA CORP</td>\n",
       "      <td>29402E10</td>\n",
       "      <td>2019-12-18</td>\n",
       "    </tr>\n",
       "    <tr>\n",
       "      <th>2</th>\n",
       "      <td>Market-Adjusted Model</td>\n",
       "      <td>10032</td>\n",
       "      <td>2022-05-12</td>\n",
       "      <td>0.064433</td>\n",
       "      <td>0.095385</td>\n",
       "      <td>0.097296</td>\n",
       "      <td>21</td>\n",
       "      <td>100</td>\n",
       "      <td>3670</td>\n",
       "      <td>PLXS</td>\n",
       "      <td>PLEXUS CORP</td>\n",
       "      <td>72913210</td>\n",
       "      <td>1986-02-05</td>\n",
       "    </tr>\n",
       "    <tr>\n",
       "      <th>3</th>\n",
       "      <td>Market-Adjusted Model</td>\n",
       "      <td>10044</td>\n",
       "      <td>2022-05-12</td>\n",
       "      <td>-0.011940</td>\n",
       "      <td>0.027170</td>\n",
       "      <td>0.020923</td>\n",
       "      <td>21</td>\n",
       "      <td>100</td>\n",
       "      <td>2060</td>\n",
       "      <td>RMCF</td>\n",
       "      <td>ROCKY MOUNTAIN CHOC FAC INC NEW</td>\n",
       "      <td>77467X10</td>\n",
       "      <td>2015-03-02</td>\n",
       "    </tr>\n",
       "    <tr>\n",
       "      <th>4</th>\n",
       "      <td>Market-Adjusted Model</td>\n",
       "      <td>10051</td>\n",
       "      <td>2022-05-12</td>\n",
       "      <td>-0.023114</td>\n",
       "      <td>0.017413</td>\n",
       "      <td>0.009749</td>\n",
       "      <td>21</td>\n",
       "      <td>100</td>\n",
       "      <td>4813</td>\n",
       "      <td>HNGR</td>\n",
       "      <td>HANGER INC</td>\n",
       "      <td>41043F20</td>\n",
       "      <td>2020-02-14</td>\n",
       "    </tr>\n",
       "  </tbody>\n",
       "</table>\n",
       "</div>"
      ],
      "text/plain": [
       "                   Model  permno     evtdate      cret       car      bhar  \\\n",
       "0  Market-Adjusted Model   10026  2022-05-12 -0.172327 -0.149962 -0.139464   \n",
       "1  Market-Adjusted Model   10028  2022-05-12 -0.044402 -0.007693 -0.011538   \n",
       "2  Market-Adjusted Model   10032  2022-05-12  0.064433  0.095385  0.097296   \n",
       "3  Market-Adjusted Model   10044  2022-05-12 -0.011940  0.027170  0.020923   \n",
       "4  Market-Adjusted Model   10051  2022-05-12 -0.023114  0.017413  0.009749   \n",
       "\n",
       "   nrets  nrets_est  siccd ticker                           comnam     cusip  \\\n",
       "0     21        100   2052   JJSF           J & J SNACK FOODS CORP  46603210   \n",
       "1     21        100   5094    ELA                      ENVELA CORP  29402E10   \n",
       "2     21        100   3670   PLXS                      PLEXUS CORP  72913210   \n",
       "3     21        100   2060   RMCF  ROCKY MOUNTAIN CHOC FAC INC NEW  77467X10   \n",
       "4     21        100   4813   HNGR                       HANGER INC  41043F20   \n",
       "\n",
       "      namedt  \n",
       "0 2000-08-01  \n",
       "1 2019-12-18  \n",
       "2 1986-02-05  \n",
       "3 2015-03-02  \n",
       "4 2020-02-14  "
      ]
     },
     "execution_count": 147,
     "metadata": {},
     "output_type": "execute_result"
    }
   ],
   "source": [
    "#Part 04: Step 01\n",
    "#merge the data from part 1 and part 3\n",
    "crsp=abcar.merge(info_crsp,how=\"inner\",on='permno')\n",
    "crsp.head()"
   ]
  },
  {
   "cell_type": "code",
   "execution_count": 148,
   "id": "3b962ce8-3725-4882-a225-cfbe92c40df1",
   "metadata": {},
   "outputs": [
    {
     "data": {
      "text/plain": [
       "(9080, 13)"
      ]
     },
     "execution_count": 148,
     "metadata": {},
     "output_type": "execute_result"
    }
   ],
   "source": [
    "crsp.shape"
   ]
  },
  {
   "cell_type": "code",
   "execution_count": 149,
   "id": "4b91602e-82cf-4c1d-aeb2-59966d988962",
   "metadata": {},
   "outputs": [
    {
     "name": "stdout",
     "output_type": "stream",
     "text": [
      "<class 'pandas.core.frame.DataFrame'>\n",
      "RangeIndex: 9080 entries, 0 to 9079\n",
      "Data columns (total 13 columns):\n",
      " #   Column     Non-Null Count  Dtype         \n",
      "---  ------     --------------  -----         \n",
      " 0   Model      9080 non-null   object        \n",
      " 1   permno     9080 non-null   int64         \n",
      " 2   evtdate    9080 non-null   object        \n",
      " 3   cret       9077 non-null   float64       \n",
      " 4   car        9077 non-null   float64       \n",
      " 5   bhar       9077 non-null   float64       \n",
      " 6   nrets      9080 non-null   int64         \n",
      " 7   nrets_est  9080 non-null   int64         \n",
      " 8   siccd      9080 non-null   int64         \n",
      " 9   ticker     9080 non-null   object        \n",
      " 10  comnam     9080 non-null   object        \n",
      " 11  cusip      9080 non-null   object        \n",
      " 12  namedt     9080 non-null   datetime64[ns]\n",
      "dtypes: datetime64[ns](1), float64(3), int64(4), object(5)\n",
      "memory usage: 922.3+ KB\n"
     ]
    }
   ],
   "source": [
    "crsp.info()"
   ]
  },
  {
   "cell_type": "code",
   "execution_count": 170,
   "id": "9f132af9-6a4d-4d03-9eea-44305103b779",
   "metadata": {},
   "outputs": [],
   "source": [
    "import numpy as np"
   ]
  },
  {
   "cell_type": "code",
   "execution_count": 172,
   "id": "cc54594e-f39e-4143-98f1-82deaad87910",
   "metadata": {},
   "outputs": [],
   "source": [
    "# collecting compustat data\n",
    "\n",
    "comp = conn.raw_sql('''select sich, gvkey, datadate, conm, revt, ni from comp.funda \n",
    "                        where datafmt = 'STD' and consol = 'C'and indfmt = 'INDL'\n",
    "                        ''', date_cols=['datadate'])\n",
    "#generating year\n",
    "comp['year']=pd.DatetimeIndex(comp['datadate']).year\n",
    "\n",
    "#linkage\n",
    "url='https://github.com/kyoon5/shared/blob/main/link.csv?raw=true'\n",
    "link=pd.read_csv(url)\n",
    "link['gvkey'] = link['gvkey'].astype(str).str.zfill(6)\n",
    "link['linkdt']=pd.to_datetime(link['linkdt'])\n",
    "link['linkenddt']=pd.to_datetime(link['linkenddt'])\n",
    "\n",
    "#adding permno for crsp data\n",
    "comp2 = (\n",
    "    comp.merge(link, how='inner', on='gvkey')  # Join on gvkey\n",
    "    .query(\"datadate >= linkdt and (datadate <= linkenddt or linkenddt.isna())\")  # Apply date range filter\n",
    "    .assign(permno=lambda x: x['lpermno'])  # Select permno\n",
    "    .sort_values(['gvkey', 'datadate'])  # Sort by gvkey and datadate\n",
    ")\n",
    "\n",
    "comp2=comp2[['sich', 'gvkey','datadate','conm','revt','ni','year','permno']]"
   ]
  },
  {
   "cell_type": "code",
   "execution_count": 173,
   "id": "87d9f04f-708f-4424-a10f-1c37b2e68ea6",
   "metadata": {},
   "outputs": [],
   "source": [
    "crsp['year']=pd.DatetimeIndex(crsp['evtdate']).year"
   ]
  },
  {
   "cell_type": "code",
   "execution_count": 174,
   "id": "1d6a8bb7-aeb8-468a-85ff-9ddd61a7b931",
   "metadata": {},
   "outputs": [],
   "source": [
    "crsp_comp=crsp.merge(comp2,how='inner',on=['permno','year'])"
   ]
  },
  {
   "cell_type": "code",
   "execution_count": 175,
   "id": "cbd9acba-a3ec-49ba-b5a0-23420f980c59",
   "metadata": {},
   "outputs": [],
   "source": [
    "crsp_comp['Prepackaged Software (technology industry)']=np.where((crsp_comp['siccd']>=7372)&(crsp_comp['siccd']<=7370),True,False)"
   ]
  },
  {
   "cell_type": "code",
   "execution_count": 176,
   "id": "f5b2f17c-e3e1-4f9c-b134-2c179467d4bf",
   "metadata": {},
   "outputs": [
    {
     "data": {
      "text/plain": [
       "Prepackaged Software (technology industry)\n",
       "False    5600\n",
       "Name: count, dtype: int64"
      ]
     },
     "execution_count": 176,
     "metadata": {},
     "output_type": "execute_result"
    }
   ],
   "source": [
    "crsp_comp['Prepackaged Software (technology industry)'].value_counts()"
   ]
  },
  {
   "cell_type": "code",
   "execution_count": 177,
   "id": "75cd670e-d6c5-4239-abf5-212914765c03",
   "metadata": {},
   "outputs": [],
   "source": [
    "import pickle\n",
    "\n",
    "# Ensure all required variables (info_crsp, crsp, crsp_comp) are defined and contain data\n",
    "\n",
    "# Save multiple DataFrames in a dictionary\n",
    "data = {'info_crsp': info_crsp, 'crsp': crsp, 'crsp_comp': crsp_comp}\n",
    "\n",
    "# Define the directory location and file name\n",
    "loc = './'  # Update with the desired path\n",
    "fname = loc + 'Project part-2 Event(Assignment-07).pkl'\n",
    "\n",
    "# Save the dictionary to a pickle file\n",
    "with open(fname, 'wb') as file:\n",
    "    pickle.dump(data, file)\n",
    "\n"
   ]
  },
  {
   "cell_type": "code",
   "execution_count": null,
   "id": "a3c31dfd-a86a-4ccd-bac3-1f329659ef31",
   "metadata": {},
   "outputs": [],
   "source": []
  },
  {
   "cell_type": "code",
   "execution_count": null,
   "id": "2ca6e189-44ab-4ade-b24a-c28614c00a85",
   "metadata": {},
   "outputs": [],
   "source": []
  },
  {
   "cell_type": "code",
   "execution_count": null,
   "id": "4bd425b0-12b2-4e79-81ae-48855f72003b",
   "metadata": {},
   "outputs": [],
   "source": []
  },
  {
   "cell_type": "code",
   "execution_count": null,
   "id": "59f2625e-c460-4165-90e8-322b3b2ba69b",
   "metadata": {},
   "outputs": [],
   "source": []
  }
 ],
 "metadata": {
  "kernelspec": {
   "display_name": "Python 3 (ipykernel)",
   "language": "python",
   "name": "python3"
  },
  "language_info": {
   "codemirror_mode": {
    "name": "ipython",
    "version": 3
   },
   "file_extension": ".py",
   "mimetype": "text/x-python",
   "name": "python",
   "nbconvert_exporter": "python",
   "pygments_lexer": "ipython3",
   "version": "3.12.4"
  }
 },
 "nbformat": 4,
 "nbformat_minor": 5
}
